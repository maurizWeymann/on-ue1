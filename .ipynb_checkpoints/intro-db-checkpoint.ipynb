{
 "cells": [
  {
   "cell_type": "code",
   "execution_count": 15,
   "metadata": {
    "id": "JL3VAYEhHMzY"
   },
   "outputs": [],
   "source": [
    "import pandas as pd\n",
    "from sqlalchemy import create_engine\n",
    "\n",
    "# In die Datei const.py müssen die Zugangsdaten eingetragen werden\n",
    "import const as c"
   ]
  },
  {
   "cell_type": "code",
   "execution_count": 23,
   "metadata": {},
   "outputs": [],
   "source": [
    "engine = create_engine(\n",
    "    f'postgresql://{c.pg_userid}:{c.pg_password}@{c.pg_host}/{c.pg_db}', \n",
    "    connect_args = {'options': '-c search_path=uadbkt,uccfraud,utanimura', 'keepalives_idle': 120},\n",
    "    pool_size=1, \n",
    "    max_overflow=0,\n",
    "    execution_options={ 'isolation_level': 'AUTOCOMMIT' }\n",
    ")"
   ]
  },
  {
   "cell_type": "code",
   "execution_count": null,
   "metadata": {},
   "outputs": [],
   "source": [
    "# engine.dispose()"
   ]
  },
  {
   "cell_type": "code",
   "execution_count": 24,
   "metadata": {
    "id": "OnPPyzHk4_WN"
   },
   "outputs": [],
   "source": [
    "with engine.connect() as con:\n",
    "    sql = \"select * from bestellung\"\n",
    "    bestellung_pdf = pd.read_sql_query(sql, con)"
   ]
  },
  {
   "cell_type": "code",
   "execution_count": 7,
   "metadata": {},
   "outputs": [
    {
     "data": {
      "text/html": [
       "<div>\n",
       "<style scoped>\n",
       "    .dataframe tbody tr th:only-of-type {\n",
       "        vertical-align: middle;\n",
       "    }\n",
       "\n",
       "    .dataframe tbody tr th {\n",
       "        vertical-align: top;\n",
       "    }\n",
       "\n",
       "    .dataframe thead th {\n",
       "        text-align: right;\n",
       "    }\n",
       "</style>\n",
       "<table border=\"1\" class=\"dataframe\">\n",
       "  <thead>\n",
       "    <tr style=\"text-align: right;\">\n",
       "      <th></th>\n",
       "      <th>bid</th>\n",
       "      <th>kid</th>\n",
       "      <th>bestelldatum</th>\n",
       "      <th>gesamtpreis</th>\n",
       "    </tr>\n",
       "  </thead>\n",
       "  <tbody>\n",
       "    <tr>\n",
       "      <th>0</th>\n",
       "      <td>100000</td>\n",
       "      <td>11661</td>\n",
       "      <td>2017-07-01</td>\n",
       "      <td>28.00</td>\n",
       "    </tr>\n",
       "    <tr>\n",
       "      <th>1</th>\n",
       "      <td>100001</td>\n",
       "      <td>13282</td>\n",
       "      <td>2017-07-01</td>\n",
       "      <td>311.44</td>\n",
       "    </tr>\n",
       "    <tr>\n",
       "      <th>2</th>\n",
       "      <td>100002</td>\n",
       "      <td>15320</td>\n",
       "      <td>2017-07-01</td>\n",
       "      <td>366.88</td>\n",
       "    </tr>\n",
       "    <tr>\n",
       "      <th>3</th>\n",
       "      <td>100003</td>\n",
       "      <td>12056</td>\n",
       "      <td>2017-07-01</td>\n",
       "      <td>735.99</td>\n",
       "    </tr>\n",
       "    <tr>\n",
       "      <th>4</th>\n",
       "      <td>100004</td>\n",
       "      <td>13876</td>\n",
       "      <td>2017-07-01</td>\n",
       "      <td>43.89</td>\n",
       "    </tr>\n",
       "    <tr>\n",
       "      <th>...</th>\n",
       "      <td>...</td>\n",
       "      <td>...</td>\n",
       "      <td>...</td>\n",
       "      <td>...</td>\n",
       "    </tr>\n",
       "    <tr>\n",
       "      <th>21426</th>\n",
       "      <td>121426</td>\n",
       "      <td>17144</td>\n",
       "      <td>2020-03-14</td>\n",
       "      <td>283.97</td>\n",
       "    </tr>\n",
       "    <tr>\n",
       "      <th>21427</th>\n",
       "      <td>121427</td>\n",
       "      <td>13593</td>\n",
       "      <td>2020-03-14</td>\n",
       "      <td>647.92</td>\n",
       "    </tr>\n",
       "    <tr>\n",
       "      <th>21428</th>\n",
       "      <td>121428</td>\n",
       "      <td>11691</td>\n",
       "      <td>2020-03-14</td>\n",
       "      <td>165.49</td>\n",
       "    </tr>\n",
       "    <tr>\n",
       "      <th>21429</th>\n",
       "      <td>121429</td>\n",
       "      <td>10640</td>\n",
       "      <td>2020-03-14</td>\n",
       "      <td>289.67</td>\n",
       "    </tr>\n",
       "    <tr>\n",
       "      <th>21430</th>\n",
       "      <td>121430</td>\n",
       "      <td>18531</td>\n",
       "      <td>2020-03-14</td>\n",
       "      <td>534.50</td>\n",
       "    </tr>\n",
       "  </tbody>\n",
       "</table>\n",
       "<p>21431 rows × 4 columns</p>\n",
       "</div>"
      ],
      "text/plain": [
       "          bid    kid bestelldatum  gesamtpreis\n",
       "0      100000  11661   2017-07-01        28.00\n",
       "1      100001  13282   2017-07-01       311.44\n",
       "2      100002  15320   2017-07-01       366.88\n",
       "3      100003  12056   2017-07-01       735.99\n",
       "4      100004  13876   2017-07-01        43.89\n",
       "...       ...    ...          ...          ...\n",
       "21426  121426  17144   2020-03-14       283.97\n",
       "21427  121427  13593   2020-03-14       647.92\n",
       "21428  121428  11691   2020-03-14       165.49\n",
       "21429  121429  10640   2020-03-14       289.67\n",
       "21430  121430  18531   2020-03-14       534.50\n",
       "\n",
       "[21431 rows x 4 columns]"
      ]
     },
     "execution_count": 7,
     "metadata": {},
     "output_type": "execute_result"
    }
   ],
   "source": [
    "bestellung_pdf"
   ]
  },
  {
   "cell_type": "code",
   "execution_count": 8,
   "metadata": {
    "id": "AzwtkkDPe2P0"
   },
   "outputs": [
    {
     "name": "stdout",
     "output_type": "stream",
     "text": [
      "<class 'pandas.core.frame.DataFrame'>\n",
      "RangeIndex: 21431 entries, 0 to 21430\n",
      "Data columns (total 4 columns):\n",
      " #   Column        Non-Null Count  Dtype  \n",
      "---  ------        --------------  -----  \n",
      " 0   bid           21431 non-null  int64  \n",
      " 1   kid           21431 non-null  int64  \n",
      " 2   bestelldatum  21431 non-null  object \n",
      " 3   gesamtpreis   21431 non-null  float64\n",
      "dtypes: float64(1), int64(2), object(1)\n",
      "memory usage: 669.8+ KB\n"
     ]
    }
   ],
   "source": [
    "bestellung_pdf.info()"
   ]
  },
  {
   "cell_type": "code",
   "execution_count": 25,
   "metadata": {
    "id": "l_WJVUkJkCvE"
   },
   "outputs": [],
   "source": [
    "with engine.connect() as con:\n",
    "    sql = \"\"\"\n",
    "select extract(year from bestelldatum) as jahr, count(*) as anzahl\n",
    "from bestellung\n",
    "group by extract(year from bestelldatum)\n",
    "order by jahr\n",
    "\"\"\"\n",
    "    year_pdf = pd.read_sql_query(sql, con)"
   ]
  },
  {
   "cell_type": "code",
   "execution_count": 10,
   "metadata": {
    "id": "l_WJVUkJkCvE"
   },
   "outputs": [
    {
     "data": {
      "text/plain": [
       "<AxesSubplot: xlabel='jahr'>"
      ]
     },
     "execution_count": 10,
     "metadata": {},
     "output_type": "execute_result"
    },
    {
     "data": {
      "image/png": "[encoded data removed]",
      "text/plain": [
       "<Figure size 640x480 with 1 Axes>"
      ]
     },
     "metadata": {},
     "output_type": "display_data"
    }
   ],
   "source": [
    "year_pdf.jahr = year_pdf.jahr.astype('int32')\n",
    "year_pdf.set_index('jahr', inplace = True)\n",
    "year_pdf.plot.bar()"
   ]
  },
  {
   "cell_type": "markdown",
   "metadata": {},
   "source": [
    "Monatlicher Verlauf von 'Retail and food services sales, total'"
   ]
  },
  {
   "cell_type": "code",
   "execution_count": 47,
   "metadata": {},
   "outputs": [],
   "source": [
    "with engine.connect() as con:\n",
    "    sql = \"\"\"\n",
    "select extract (year from sales_month) as jahr, sum(sales) over (partition by extract (year  from sales_month) ) as gesamtumsatz\n",
    "from retail_sales \n",
    "where kind_of_business = 'Retail and food services sales, total'\n",
    "order by jahr;\n",
    "\"\"\"\n",
    "    monthlycourse_pdf = pd.read_sql_query(sql, con)"
   ]
  },
  {
   "cell_type": "code",
   "execution_count": 48,
   "metadata": {},
   "outputs": [
    {
     "data": {
      "text/plain": [
       "<AxesSubplot: xlabel='jahr'>"
      ]
     },
     "execution_count": 48,
     "metadata": {},
     "output_type": "execute_result"
    },
    {
     "data": {
      "image/png": "[encoded data removed]",
      "text/plain": [
       "<Figure size 640x480 with 1 Axes>"
      ]
     },
     "metadata": {},
     "output_type": "display_data"
    }
   ],
   "source": [
    "monthlycourse_pdf.jahr = monthlycourse_pdf.jahr.astype('int32')\n",
    "monthlycourse_pdf.set_index('jahr', inplace = True)\n",
    "monthlycourse_pdf.plot()"
   ]
  }
 ],
 "metadata": {
  "colab": {
   "authorship_tag": "ABX9TyP3hR/iaTVoa5T0jiLCYqvi",
   "collapsed_sections": [],
   "mount_file_id": "160Y7soBv-ooFoji_K8JAkM2juqMAPdfE",
   "name": "intro-cla.ipynb",
   "provenance": [
    {
     "file_id": "160Y7soBv-ooFoji_K8JAkM2juqMAPdfE",
     "timestamp": 1647272627451
    }
   ]
  },
  "kernelspec": {
   "display_name": "Python 3 (ipykernel)",
   "language": "python",
   "name": "python3"
  },
  "language_info": {
   "codemirror_mode": {
    "name": "ipython",
    "version": 3
   },
   "file_extension": ".py",
   "mimetype": "text/x-python",
   "name": "python",
   "nbconvert_exporter": "python",
   "pygments_lexer": "ipython3",
   "version": "3.9.13"
  },
  "vscode": {
   "interpreter": {
    "hash": "f49206fcf84a9145e7e21228cbafa911d1ac18292303b01e865d8267a9c448f7"
   }
  }
 },
 "nbformat": 4,
 "nbformat_minor": 1
}
